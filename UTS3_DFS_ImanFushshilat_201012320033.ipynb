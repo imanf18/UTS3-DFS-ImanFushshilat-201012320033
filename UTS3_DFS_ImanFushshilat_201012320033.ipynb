{
  "nbformat": 4,
  "nbformat_minor": 0,
  "metadata": {
    "colab": {
      "provenance": [],
      "authorship_tag": "ABX9TyNtW5QViz4AhnF0klui/twO",
      "include_colab_link": true
    },
    "kernelspec": {
      "name": "python3",
      "display_name": "Python 3"
    },
    "language_info": {
      "name": "python"
    }
  },
  "cells": [
    {
      "cell_type": "markdown",
      "metadata": {
        "id": "view-in-github",
        "colab_type": "text"
      },
      "source": [
        "<a href=\"https://colab.research.google.com/github/imanf18/UTS3-DFS-ImanFushshilat-201012320033/blob/main/UTS3_DFS_ImanFushshilat_201012320033.ipynb\" target=\"_parent\"><img src=\"https://colab.research.google.com/assets/colab-badge.svg\" alt=\"Open In Colab\"/></a>"
      ]
    },
    {
      "cell_type": "code",
      "source": [
        "def depth_first_search(graph, start, goal):\n",
        "    visited = set()  # set of visited nodes\n",
        "    frontier = []  # stack for nodes to explore (LIFO)\n",
        "    frontier.append(start)  # start node\n",
        "    came_from = {}  # dictionary to store the path\n",
        "\n",
        "    while frontier:\n",
        "        current_node = frontier.pop()  # pop the last added node (LIFO)\n",
        "\n",
        "        if current_node == goal:\n",
        "            # Reached the goal node\n",
        "            break\n",
        "\n",
        "        visited.add(current_node)\n",
        "\n",
        "        for next_node in graph[current_node]:\n",
        "            if next_node not in visited and next_node not in frontier:\n",
        "                frontier.append(next_node)\n",
        "                came_from[next_node] = current_node\n",
        "\n",
        "    # Reconstruct the path from start to goal\n",
        "    path = []\n",
        "    if goal in came_from:\n",
        "        current = goal\n",
        "        while current != start:\n",
        "            path.append(current)\n",
        "            current = came_from[current]\n",
        "        path.append(start)\n",
        "        path.reverse()\n",
        "\n",
        "    return path\n",
        "\n",
        "# Graph representation of the Romanian Map\n",
        "graph = {\n",
        "    '#2': {'#5': 75, '#3': 118, '#4': 140}, #Arad\n",
        "    '#5': {'#2': 75, '#1': 71}, #Zerind\n",
        "    '#3': {'#2': 118, '#6': 111}, #Timisoara\n",
        "    '#4': {'#2': 140, '#1': 151, '#13': 99, '#9': 80}, #Sibiu\n",
        "    '#1': {'#5': 71, '#4': 151}, #Oradea\n",
        "    '#6': {'#3': 111, '#7': 70}, #Lugoj\n",
        "    '#13': {'#4': 99, '#ABC': 211}, #Fagaras\n",
        "    '#9': {'#4': 80, '#12': 97, '#11': 146}, #Rimnicu Vilcea\n",
        "    '#7': {'#6': 70, '#8': 75}, #Mehadia\n",
        "    '#8': {'#7': 75, '#11': 120},#Drobeta\n",
        "    '#12': {'#9': 97, '#11': 138, '#ABC': 101}, #Pitesti\n",
        "    '#11': {'#9': 146, '#12': 138, '#8': 120}, #Craiova\n",
        "    '#ABC': {'#13': 211, '#12': 101, '#I': 90, '#J': 85}, #Bucharest\n",
        "    '#I': {'#ABC': 90}, #Giurgiu\n",
        "    '#J': {'#ABC': 85, '#H': 142, '#F': 98}, #Urziceni\n",
        "    '#H': {'#J': 142, '#C': 92}, #Vaslui\n",
        "    '#F': {'#J': 98, '#E': 86}, #Hirsova\n",
        "    '#C': {'#H': 92, '#B': 87}, #Iasi\n",
        "    '#B': {'#C': 87}, #Neamt\n",
        "    '#E': {'#F': 86} #Eforie\n",
        "}\n",
        "\n",
        "start_node = '#C'\n",
        "goal_node = '#3'\n",
        "result = depth_first_search(graph, start_node, goal_node)\n",
        "print(\"Start State : \" , start_node , \"\\nTarget State : \" ,goal_node)\n",
        "print(\"Path:\", result)\n"
      ],
      "metadata": {
        "id": "SWovIqk0oHzh",
        "outputId": "4428b332-5b84-4425-e4ea-e58f0581eae2",
        "colab": {
          "base_uri": "https://localhost:8080/"
        }
      },
      "execution_count": 2,
      "outputs": [
        {
          "output_type": "stream",
          "name": "stdout",
          "text": [
            "Start State :  #C \n",
            "Target State :  #3\n",
            "Path: ['#C', '#H', '#J', '#ABC', '#12', '#11', '#8', '#7', '#6', '#3']\n"
          ]
        }
      ]
    }
  ]
}